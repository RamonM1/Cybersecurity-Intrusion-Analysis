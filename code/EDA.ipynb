{
 "cells": [
  {
   "cell_type": "code",
   "execution_count": 20,
   "metadata": {},
   "outputs": [],
   "source": [
    "import pandas as pd\n",
    "import numpy as np\n",
    "import matplotlib.pyplot as plt\n",
    "import seaborn as sns"
   ]
  },
  {
   "cell_type": "code",
   "execution_count": 21,
   "metadata": {},
   "outputs": [],
   "source": [
    "df = pd.read_csv('/Users/ramonmora/Desktop/TKH/Cybersecurity-Intrusion-Analysis/data/AWS_Honeypot_marx-geo.csv')"
   ]
  },
  {
   "cell_type": "code",
   "execution_count": 22,
   "metadata": {},
   "outputs": [
    {
     "data": {
      "text/html": [
       "<div>\n",
       "<style scoped>\n",
       "    .dataframe tbody tr th:only-of-type {\n",
       "        vertical-align: middle;\n",
       "    }\n",
       "\n",
       "    .dataframe tbody tr th {\n",
       "        vertical-align: top;\n",
       "    }\n",
       "\n",
       "    .dataframe thead th {\n",
       "        text-align: right;\n",
       "    }\n",
       "</style>\n",
       "<table border=\"1\" class=\"dataframe\">\n",
       "  <thead>\n",
       "    <tr style=\"text-align: right;\">\n",
       "      <th></th>\n",
       "      <th>datetime</th>\n",
       "      <th>host</th>\n",
       "      <th>src</th>\n",
       "      <th>proto</th>\n",
       "      <th>type</th>\n",
       "      <th>spt</th>\n",
       "      <th>dpt</th>\n",
       "      <th>srcstr</th>\n",
       "      <th>cc</th>\n",
       "      <th>country</th>\n",
       "      <th>locale</th>\n",
       "      <th>localeabbr</th>\n",
       "      <th>postalcode</th>\n",
       "      <th>latitude</th>\n",
       "      <th>longitude</th>\n",
       "      <th>Unnamed: 15</th>\n",
       "    </tr>\n",
       "  </thead>\n",
       "  <tbody>\n",
       "    <tr>\n",
       "      <th>0</th>\n",
       "      <td>3/3/13 21:53</td>\n",
       "      <td>groucho-oregon</td>\n",
       "      <td>1032051418</td>\n",
       "      <td>TCP</td>\n",
       "      <td>NaN</td>\n",
       "      <td>6000.0</td>\n",
       "      <td>1433.0</td>\n",
       "      <td>61.131.218.218</td>\n",
       "      <td>CN</td>\n",
       "      <td>China</td>\n",
       "      <td>Jiangxi Sheng</td>\n",
       "      <td>36</td>\n",
       "      <td>NaN</td>\n",
       "      <td>28.5500</td>\n",
       "      <td>115.9333</td>\n",
       "      <td>NaN</td>\n",
       "    </tr>\n",
       "    <tr>\n",
       "      <th>1</th>\n",
       "      <td>3/3/13 21:57</td>\n",
       "      <td>groucho-oregon</td>\n",
       "      <td>1347834426</td>\n",
       "      <td>UDP</td>\n",
       "      <td>NaN</td>\n",
       "      <td>5270.0</td>\n",
       "      <td>5060.0</td>\n",
       "      <td>80.86.82.58</td>\n",
       "      <td>DE</td>\n",
       "      <td>Germany</td>\n",
       "      <td>NaN</td>\n",
       "      <td>NaN</td>\n",
       "      <td>NaN</td>\n",
       "      <td>51.0000</td>\n",
       "      <td>9.0000</td>\n",
       "      <td>NaN</td>\n",
       "    </tr>\n",
       "    <tr>\n",
       "      <th>2</th>\n",
       "      <td>3/3/13 21:58</td>\n",
       "      <td>groucho-oregon</td>\n",
       "      <td>2947856490</td>\n",
       "      <td>TCP</td>\n",
       "      <td>NaN</td>\n",
       "      <td>2489.0</td>\n",
       "      <td>1080.0</td>\n",
       "      <td>175.180.184.106</td>\n",
       "      <td>TW</td>\n",
       "      <td>Taiwan</td>\n",
       "      <td>Taipei</td>\n",
       "      <td>NaN</td>\n",
       "      <td>NaN</td>\n",
       "      <td>25.0392</td>\n",
       "      <td>121.5250</td>\n",
       "      <td>NaN</td>\n",
       "    </tr>\n",
       "    <tr>\n",
       "      <th>3</th>\n",
       "      <td>3/3/13 21:58</td>\n",
       "      <td>groucho-us-east</td>\n",
       "      <td>841842716</td>\n",
       "      <td>UDP</td>\n",
       "      <td>NaN</td>\n",
       "      <td>43235.0</td>\n",
       "      <td>1900.0</td>\n",
       "      <td>50.45.128.28</td>\n",
       "      <td>US</td>\n",
       "      <td>United States</td>\n",
       "      <td>Oregon</td>\n",
       "      <td>OR</td>\n",
       "      <td>97124</td>\n",
       "      <td>45.5848</td>\n",
       "      <td>-122.9117</td>\n",
       "      <td>NaN</td>\n",
       "    </tr>\n",
       "    <tr>\n",
       "      <th>4</th>\n",
       "      <td>3/3/13 21:58</td>\n",
       "      <td>groucho-singapore</td>\n",
       "      <td>3587648279</td>\n",
       "      <td>TCP</td>\n",
       "      <td>NaN</td>\n",
       "      <td>56577.0</td>\n",
       "      <td>80.0</td>\n",
       "      <td>213.215.43.23</td>\n",
       "      <td>FR</td>\n",
       "      <td>France</td>\n",
       "      <td>NaN</td>\n",
       "      <td>NaN</td>\n",
       "      <td>NaN</td>\n",
       "      <td>48.8600</td>\n",
       "      <td>2.3500</td>\n",
       "      <td>NaN</td>\n",
       "    </tr>\n",
       "  </tbody>\n",
       "</table>\n",
       "</div>"
      ],
      "text/plain": [
       "       datetime               host         src proto  type      spt     dpt  \\\n",
       "0  3/3/13 21:53     groucho-oregon  1032051418   TCP   NaN   6000.0  1433.0   \n",
       "1  3/3/13 21:57     groucho-oregon  1347834426   UDP   NaN   5270.0  5060.0   \n",
       "2  3/3/13 21:58     groucho-oregon  2947856490   TCP   NaN   2489.0  1080.0   \n",
       "3  3/3/13 21:58    groucho-us-east   841842716   UDP   NaN  43235.0  1900.0   \n",
       "4  3/3/13 21:58  groucho-singapore  3587648279   TCP   NaN  56577.0    80.0   \n",
       "\n",
       "            srcstr  cc        country         locale localeabbr postalcode  \\\n",
       "0   61.131.218.218  CN          China  Jiangxi Sheng         36        NaN   \n",
       "1      80.86.82.58  DE        Germany            NaN        NaN        NaN   \n",
       "2  175.180.184.106  TW         Taiwan         Taipei        NaN        NaN   \n",
       "3     50.45.128.28  US  United States         Oregon         OR      97124   \n",
       "4    213.215.43.23  FR         France            NaN        NaN        NaN   \n",
       "\n",
       "   latitude  longitude  Unnamed: 15  \n",
       "0   28.5500   115.9333          NaN  \n",
       "1   51.0000     9.0000          NaN  \n",
       "2   25.0392   121.5250          NaN  \n",
       "3   45.5848  -122.9117          NaN  \n",
       "4   48.8600     2.3500          NaN  "
      ]
     },
     "execution_count": 22,
     "metadata": {},
     "output_type": "execute_result"
    }
   ],
   "source": [
    "df.head()"
   ]
  },
  {
   "cell_type": "code",
   "execution_count": 23,
   "metadata": {},
   "outputs": [
    {
     "data": {
      "text/plain": [
       "Index(['datetime', 'host', 'src', 'proto', 'type', 'spt', 'dpt', 'srcstr',\n",
       "       'cc', 'country', 'locale', 'localeabbr', 'postalcode', 'latitude',\n",
       "       'longitude', 'Unnamed: 15'],\n",
       "      dtype='object')"
      ]
     },
     "execution_count": 23,
     "metadata": {},
     "output_type": "execute_result"
    }
   ],
   "source": [
    "df.columns"
   ]
  },
  {
   "cell_type": "code",
   "execution_count": 24,
   "metadata": {},
   "outputs": [
    {
     "data": {
      "text/plain": [
       "datetime        object\n",
       "host            object\n",
       "src              int64\n",
       "proto           object\n",
       "type           float64\n",
       "spt            float64\n",
       "dpt            float64\n",
       "srcstr          object\n",
       "cc              object\n",
       "country         object\n",
       "locale          object\n",
       "localeabbr      object\n",
       "postalcode      object\n",
       "latitude       float64\n",
       "longitude      float64\n",
       "Unnamed: 15    float64\n",
       "dtype: object"
      ]
     },
     "execution_count": 24,
     "metadata": {},
     "output_type": "execute_result"
    }
   ],
   "source": [
    "df.dtypes"
   ]
  },
  {
   "cell_type": "markdown",
   "metadata": {},
   "source": [
    "# Data Dictionary\n",
    "\n",
    "- **date time (object)**: Represents the date and time of the intrusion event in \"MM/DD/YY HH:MM\" format.\n",
    "- **host (object)**: The identifier of the host system where the intrusion event occurred.\n",
    "- **src (int64)**: A unique code representing the source of the data intrusion.\n",
    "- **proto (object)**: The communication protocol used in the intrusion event, such as TCP or UDP.\n",
    "- **type (float64)**: Additional information or categorization of the intrusion event.\n",
    "- **spt (float64)**: The source port number used by the intruder.\n",
    "- **dpt (float64)**: The destination port number on the host where the intrusion occurred.\n",
    "- **srcstr (object)**: The source IP address of the intrusion.\n",
    "- **cc (object)**: The country code representing the country of the source.\n",
    "- **country (object)**: The name of the country associated with the source address.\n",
    "- **locale (object)**: A more specific location within the country, such as a city or region.\n",
    "- **localeabbr (object)**: An abbreviation for the locale.\n",
    "- **postalcode (object)**: The postal code or ZIP code for the source address.\n",
    "- **latitude (float64)**: The latitude coordinate for the source address.\n",
    "- **longitude (float64)**: The longitude coordinate for the source address."
   ]
  },
  {
   "cell_type": "code",
   "execution_count": 25,
   "metadata": {},
   "outputs": [
    {
     "data": {
      "text/plain": [
       "<bound method DataFrame.info of             datetime               host         src proto  type      spt  \\\n",
       "0       3/3/13 21:53     groucho-oregon  1032051418   TCP   NaN   6000.0   \n",
       "1       3/3/13 21:57     groucho-oregon  1347834426   UDP   NaN   5270.0   \n",
       "2       3/3/13 21:58     groucho-oregon  2947856490   TCP   NaN   2489.0   \n",
       "3       3/3/13 21:58    groucho-us-east   841842716   UDP   NaN  43235.0   \n",
       "4       3/3/13 21:58  groucho-singapore  3587648279   TCP   NaN  56577.0   \n",
       "...              ...                ...         ...   ...   ...      ...   \n",
       "451576   9/8/13 5:54     groucho-oregon  1922977453   TCP   NaN  62175.0   \n",
       "451577   9/8/13 5:50         groucho-eu  1017974360   TCP   NaN   6000.0   \n",
       "451578   9/8/13 5:55     groucho-oregon  3234358955   TCP   NaN   6000.0   \n",
       "451579   9/8/13 5:55      groucho-tokyo    28142724   TCP   NaN   3555.0   \n",
       "451580   9/8/13 5:55      groucho-tokyo    28142724   TCP   NaN   3555.0   \n",
       "\n",
       "           dpt           srcstr  cc        country         locale localeabbr  \\\n",
       "0       1433.0   61.131.218.218  CN          China  Jiangxi Sheng         36   \n",
       "1       5060.0      80.86.82.58  DE        Germany            NaN        NaN   \n",
       "2       1080.0  175.180.184.106  TW         Taiwan         Taipei        NaN   \n",
       "3       1900.0     50.45.128.28  US  United States         Oregon         OR   \n",
       "4         80.0    213.215.43.23  FR         France            NaN        NaN   \n",
       "...        ...              ...  ..            ...            ...        ...   \n",
       "451576   445.0   114.158.78.173  JP          Japan       Tokyo-to         13   \n",
       "451577  8090.0     60.173.14.88  CN          China    Anhui Sheng         34   \n",
       "451578  1433.0  192.200.102.171  US  United States     California         CA   \n",
       "451579   445.0    1.173.108.132  TW         Taiwan         Taipei        NaN   \n",
       "451580   445.0    1.173.108.132  TW         Taiwan         Taipei        NaN   \n",
       "\n",
       "       postalcode  latitude  longitude  Unnamed: 15  \n",
       "0             NaN   28.5500   115.9333          NaN  \n",
       "1             NaN   51.0000     9.0000          NaN  \n",
       "2             NaN   25.0392   121.5250          NaN  \n",
       "3           97124   45.5848  -122.9117          NaN  \n",
       "4             NaN   48.8600     2.3500          NaN  \n",
       "...           ...       ...        ...          ...  \n",
       "451576        NaN   35.6850   139.7514          NaN  \n",
       "451577        NaN   31.8639   117.2808          NaN  \n",
       "451578      90017   34.0530  -118.2642          NaN  \n",
       "451579        NaN   25.0392   121.5250          NaN  \n",
       "451580        NaN   25.0392   121.5250          NaN  \n",
       "\n",
       "[451581 rows x 16 columns]>"
      ]
     },
     "execution_count": 25,
     "metadata": {},
     "output_type": "execute_result"
    }
   ],
   "source": [
    "df.info"
   ]
  },
  {
   "cell_type": "code",
   "execution_count": 26,
   "metadata": {},
   "outputs": [
    {
     "data": {
      "text/html": [
       "<div>\n",
       "<style scoped>\n",
       "    .dataframe tbody tr th:only-of-type {\n",
       "        vertical-align: middle;\n",
       "    }\n",
       "\n",
       "    .dataframe tbody tr th {\n",
       "        vertical-align: top;\n",
       "    }\n",
       "\n",
       "    .dataframe thead th {\n",
       "        text-align: right;\n",
       "    }\n",
       "</style>\n",
       "<table border=\"1\" class=\"dataframe\">\n",
       "  <thead>\n",
       "    <tr style=\"text-align: right;\">\n",
       "      <th></th>\n",
       "      <th>src</th>\n",
       "      <th>type</th>\n",
       "      <th>spt</th>\n",
       "      <th>dpt</th>\n",
       "      <th>latitude</th>\n",
       "      <th>longitude</th>\n",
       "      <th>Unnamed: 15</th>\n",
       "    </tr>\n",
       "  </thead>\n",
       "  <tbody>\n",
       "    <tr>\n",
       "      <th>count</th>\n",
       "      <td>4.515810e+05</td>\n",
       "      <td>44811.000000</td>\n",
       "      <td>406770.000000</td>\n",
       "      <td>406770.000000</td>\n",
       "      <td>448112.000000</td>\n",
       "      <td>448153.000000</td>\n",
       "      <td>83.000000</td>\n",
       "    </tr>\n",
       "    <tr>\n",
       "      <th>mean</th>\n",
       "      <td>2.154902e+09</td>\n",
       "      <td>7.514896</td>\n",
       "      <td>18685.461494</td>\n",
       "      <td>6684.258212</td>\n",
       "      <td>36.214115</td>\n",
       "      <td>48.751751</td>\n",
       "      <td>-77.027536</td>\n",
       "    </tr>\n",
       "    <tr>\n",
       "      <th>std</th>\n",
       "      <td>1.081011e+09</td>\n",
       "      <td>1.799866</td>\n",
       "      <td>19290.141746</td>\n",
       "      <td>14032.839799</td>\n",
       "      <td>194.251441</td>\n",
       "      <td>91.774739</td>\n",
       "      <td>0.011942</td>\n",
       "    </tr>\n",
       "    <tr>\n",
       "      <th>min</th>\n",
       "      <td>1.677725e+07</td>\n",
       "      <td>0.000000</td>\n",
       "      <td>0.000000</td>\n",
       "      <td>0.000000</td>\n",
       "      <td>-43.533300</td>\n",
       "      <td>-175.000000</td>\n",
       "      <td>-77.059600</td>\n",
       "    </tr>\n",
       "    <tr>\n",
       "      <th>25%</th>\n",
       "      <td>1.169129e+09</td>\n",
       "      <td>8.000000</td>\n",
       "      <td>6000.000000</td>\n",
       "      <td>445.000000</td>\n",
       "      <td>30.666700</td>\n",
       "      <td>-4.000000</td>\n",
       "      <td>-77.036400</td>\n",
       "    </tr>\n",
       "    <tr>\n",
       "      <th>50%</th>\n",
       "      <td>2.031191e+09</td>\n",
       "      <td>8.000000</td>\n",
       "      <td>6000.000000</td>\n",
       "      <td>1433.000000</td>\n",
       "      <td>35.685000</td>\n",
       "      <td>106.000000</td>\n",
       "      <td>-77.036400</td>\n",
       "    </tr>\n",
       "    <tr>\n",
       "      <th>75%</th>\n",
       "      <td>3.164988e+09</td>\n",
       "      <td>8.000000</td>\n",
       "      <td>33461.000000</td>\n",
       "      <td>3389.000000</td>\n",
       "      <td>40.455500</td>\n",
       "      <td>118.777800</td>\n",
       "      <td>-77.014600</td>\n",
       "    </tr>\n",
       "    <tr>\n",
       "      <th>max</th>\n",
       "      <td>3.758094e+09</td>\n",
       "      <td>13.000000</td>\n",
       "      <td>65535.000000</td>\n",
       "      <td>65500.000000</td>\n",
       "      <td>20076.000000</td>\n",
       "      <td>178.416700</td>\n",
       "      <td>-77.014600</td>\n",
       "    </tr>\n",
       "  </tbody>\n",
       "</table>\n",
       "</div>"
      ],
      "text/plain": [
       "                src          type            spt            dpt  \\\n",
       "count  4.515810e+05  44811.000000  406770.000000  406770.000000   \n",
       "mean   2.154902e+09      7.514896   18685.461494    6684.258212   \n",
       "std    1.081011e+09      1.799866   19290.141746   14032.839799   \n",
       "min    1.677725e+07      0.000000       0.000000       0.000000   \n",
       "25%    1.169129e+09      8.000000    6000.000000     445.000000   \n",
       "50%    2.031191e+09      8.000000    6000.000000    1433.000000   \n",
       "75%    3.164988e+09      8.000000   33461.000000    3389.000000   \n",
       "max    3.758094e+09     13.000000   65535.000000   65500.000000   \n",
       "\n",
       "            latitude      longitude  Unnamed: 15  \n",
       "count  448112.000000  448153.000000    83.000000  \n",
       "mean       36.214115      48.751751   -77.027536  \n",
       "std       194.251441      91.774739     0.011942  \n",
       "min       -43.533300    -175.000000   -77.059600  \n",
       "25%        30.666700      -4.000000   -77.036400  \n",
       "50%        35.685000     106.000000   -77.036400  \n",
       "75%        40.455500     118.777800   -77.014600  \n",
       "max     20076.000000     178.416700   -77.014600  "
      ]
     },
     "execution_count": 26,
     "metadata": {},
     "output_type": "execute_result"
    }
   ],
   "source": [
    "df.describe()"
   ]
  },
  {
   "cell_type": "code",
   "execution_count": 27,
   "metadata": {},
   "outputs": [
    {
     "data": {
      "text/plain": [
       "datetime            0\n",
       "host                0\n",
       "src                 0\n",
       "proto               0\n",
       "type           406770\n",
       "spt             44811\n",
       "dpt             44811\n",
       "srcstr              0\n",
       "cc               3596\n",
       "country          3634\n",
       "locale         109469\n",
       "localeabbr     119876\n",
       "postalcode     365103\n",
       "latitude         3469\n",
       "longitude        3428\n",
       "Unnamed: 15    451498\n",
       "dtype: int64"
      ]
     },
     "execution_count": 27,
     "metadata": {},
     "output_type": "execute_result"
    }
   ],
   "source": [
    "df.isna().sum()"
   ]
  },
  {
   "cell_type": "code",
   "execution_count": 28,
   "metadata": {},
   "outputs": [
    {
     "data": {
      "text/plain": [
       "host\n",
       "groucho-tokyo        126189\n",
       "groucho-oregon        94076\n",
       "groucho-singapore     78151\n",
       "groucho-us-east       31779\n",
       "groucho-norcal        24566\n",
       "groucho-sydney        24456\n",
       "groucho-sa            24316\n",
       "zeppo-norcal          24094\n",
       "groucho-eu            23954\n",
       "Name: count, dtype: int64"
      ]
     },
     "execution_count": 28,
     "metadata": {},
     "output_type": "execute_result"
    }
   ],
   "source": [
    "df[\"host\"].value_counts()"
   ]
  },
  {
   "cell_type": "markdown",
   "metadata": {},
   "source": [
    "# Missing Values\n",
    "\n",
    "**Shape of dataset**: 451,581 rows × 16 columns\n",
    "\n",
    "## Columns with Missing Values and Actions:\n",
    "\n",
    "- **type (406,770 missing)**: Drop, too many missing values.\n",
    "- **spt (44,811 missing)**: Needs to be addressed (action to be decided).\n",
    "- **dpt (44,811 missing)**: Needs to be addressed (action to be decided).\n",
    "- **cc (3,596 missing)**: Needs to be addressed (action to be decided).\n",
    "- **country (3,634 missing)**: Needs to be addressed (action to be decided).\n",
    "- **locale (109,469 missing)**: 1/4th missing data for locale (action to be decided).\n",
    "- **localeabbr (119,876 missing)**: Needs to be addressed (action to be decided).\n",
    "- **postalcode (365,103 missing)**: Majority postal code missing - potential drop.\n",
    "- **latitude (3,469 missing)**: Setting NA to zero.\n",
    "- **longitude (3,428 missing)**: Setting NA to zero."
   ]
  },
  {
   "cell_type": "markdown",
   "metadata": {},
   "source": [
    "# Univariate Analysis"
   ]
  },
  {
   "cell_type": "code",
   "execution_count": 37,
   "metadata": {},
   "outputs": [
    {
     "data": {
      "text/plain": [
       "<Axes: xlabel='country'>"
      ]
     },
     "execution_count": 37,
     "metadata": {},
     "output_type": "execute_result"
    },
    {
     "data": {
      "image/png": "[encoded data removed]",
      "text/plain": [
       "<Figure size 640x480 with 1 Axes>"
      ]
     },
     "metadata": {},
     "output_type": "display_data"
    }
   ],
   "source": [
    "df[\"country\"].value_counts().head().plot.bar()"
   ]
  },
  {
   "cell_type": "code",
   "execution_count": 38,
   "metadata": {},
   "outputs": [
    {
     "data": {
      "text/plain": [
       "<Axes: xlabel='locale'>"
      ]
     },
     "execution_count": 38,
     "metadata": {},
     "output_type": "execute_result"
    },
    {
     "data": {
      "image/png": "[encoded data removed]",
      "text/plain": [
       "<Figure size 640x480 with 1 Axes>"
      ]
     },
     "metadata": {},
     "output_type": "display_data"
    }
   ],
   "source": [
    "df[\"locale\"].value_counts().head().plot.bar()"
   ]
  },
  {
   "cell_type": "code",
   "execution_count": 39,
   "metadata": {},
   "outputs": [
    {
     "data": {
      "text/plain": [
       "country\n",
       "China            191394\n",
       "United States     89982\n",
       "Japan             17204\n",
       "Iran              13042\n",
       "Taiwan            12148\n",
       "                  ...  \n",
       "Andorra               2\n",
       "Bermuda               1\n",
       "Barbados              1\n",
       "Namibia               1\n",
       "Cape Verde            1\n",
       "Name: count, Length: 177, dtype: int64"
      ]
     },
     "execution_count": 39,
     "metadata": {},
     "output_type": "execute_result"
    }
   ],
   "source": [
    "df[\"country\"].value_counts()"
   ]
  },
  {
   "cell_type": "code",
   "execution_count": 40,
   "metadata": {},
   "outputs": [
    {
     "data": {
      "text/plain": [
       "<Axes: xlabel='country'>"
      ]
     },
     "execution_count": 40,
     "metadata": {},
     "output_type": "execute_result"
    },
    {
     "data": {
      "image/png": "[encoded data removed]",
      "text/plain": [
       "<Figure size 640x480 with 1 Axes>"
      ]
     },
     "metadata": {},
     "output_type": "display_data"
    }
   ],
   "source": [
    "country_counts = df[\"country\"].value_counts()\n",
    "country_counts.nlargest().plot.bar()\n"
   ]
  },
  {
   "cell_type": "code",
   "execution_count": null,
   "metadata": {},
   "outputs": [
    {
     "ename": "KeyError",
     "evalue": "'date time'",
     "output_type": "error",
     "traceback": [
      "\u001b[0;31m---------------------------------------------------------------------------\u001b[0m",
      "\u001b[0;31mKeyError\u001b[0m                                  Traceback (most recent call last)",
      "File \u001b[0;32m/Applications/anaconda3/envs/phase1/lib/python3.9/site-packages/pandas/core/indexes/base.py:3653\u001b[0m, in \u001b[0;36mIndex.get_loc\u001b[0;34m(self, key)\u001b[0m\n\u001b[1;32m   3652\u001b[0m \u001b[38;5;28;01mtry\u001b[39;00m:\n\u001b[0;32m-> 3653\u001b[0m     \u001b[38;5;28;01mreturn\u001b[39;00m \u001b[38;5;28;43mself\u001b[39;49m\u001b[38;5;241;43m.\u001b[39;49m\u001b[43m_engine\u001b[49m\u001b[38;5;241;43m.\u001b[39;49m\u001b[43mget_loc\u001b[49m\u001b[43m(\u001b[49m\u001b[43mcasted_key\u001b[49m\u001b[43m)\u001b[49m\n\u001b[1;32m   3654\u001b[0m \u001b[38;5;28;01mexcept\u001b[39;00m \u001b[38;5;167;01mKeyError\u001b[39;00m \u001b[38;5;28;01mas\u001b[39;00m err:\n",
      "File \u001b[0;32m/Applications/anaconda3/envs/phase1/lib/python3.9/site-packages/pandas/_libs/index.pyx:147\u001b[0m, in \u001b[0;36mpandas._libs.index.IndexEngine.get_loc\u001b[0;34m()\u001b[0m\n",
      "File \u001b[0;32m/Applications/anaconda3/envs/phase1/lib/python3.9/site-packages/pandas/_libs/index.pyx:176\u001b[0m, in \u001b[0;36mpandas._libs.index.IndexEngine.get_loc\u001b[0;34m()\u001b[0m\n",
      "File \u001b[0;32mpandas/_libs/hashtable_class_helper.pxi:7080\u001b[0m, in \u001b[0;36mpandas._libs.hashtable.PyObjectHashTable.get_item\u001b[0;34m()\u001b[0m\n",
      "File \u001b[0;32mpandas/_libs/hashtable_class_helper.pxi:7088\u001b[0m, in \u001b[0;36mpandas._libs.hashtable.PyObjectHashTable.get_item\u001b[0;34m()\u001b[0m\n",
      "\u001b[0;31mKeyError\u001b[0m: 'date time'",
      "\nThe above exception was the direct cause of the following exception:\n",
      "\u001b[0;31mKeyError\u001b[0m                                  Traceback (most recent call last)",
      "Cell \u001b[0;32mIn[49], line 4\u001b[0m\n\u001b[1;32m      2\u001b[0m \u001b[38;5;66;03m# Plotting the distribution of intrusion events over time\u001b[39;00m\n\u001b[1;32m      3\u001b[0m plt\u001b[38;5;241m.\u001b[39mfigure(figsize\u001b[38;5;241m=\u001b[39m(\u001b[38;5;241m12\u001b[39m, \u001b[38;5;241m6\u001b[39m))\n\u001b[0;32m----> 4\u001b[0m \u001b[43mdf\u001b[49m\u001b[43m[\u001b[49m\u001b[38;5;124;43m\"\u001b[39;49m\u001b[38;5;124;43mdate time\u001b[39;49m\u001b[38;5;124;43m\"\u001b[39;49m\u001b[43m]\u001b[49m\u001b[38;5;241m.\u001b[39mdt\u001b[38;5;241m.\u001b[39mto_period(\u001b[38;5;124m'\u001b[39m\u001b[38;5;124mM\u001b[39m\u001b[38;5;124m'\u001b[39m)\u001b[38;5;241m.\u001b[39mvalue_counts()\u001b[38;5;241m.\u001b[39msort_index()\u001b[38;5;241m.\u001b[39mplot(kind\u001b[38;5;241m=\u001b[39m\u001b[38;5;124m'\u001b[39m\u001b[38;5;124mbar\u001b[39m\u001b[38;5;124m'\u001b[39m)\n\u001b[1;32m      5\u001b[0m plt\u001b[38;5;241m.\u001b[39mtitle(\u001b[38;5;124m'\u001b[39m\u001b[38;5;124mDistribution of Intrusion Events Over Time\u001b[39m\u001b[38;5;124m'\u001b[39m)\n\u001b[1;32m      6\u001b[0m plt\u001b[38;5;241m.\u001b[39mxlabel(\u001b[38;5;124m'\u001b[39m\u001b[38;5;124mMonth\u001b[39m\u001b[38;5;124m'\u001b[39m)\n",
      "File \u001b[0;32m/Applications/anaconda3/envs/phase1/lib/python3.9/site-packages/pandas/core/frame.py:3761\u001b[0m, in \u001b[0;36mDataFrame.__getitem__\u001b[0;34m(self, key)\u001b[0m\n\u001b[1;32m   3759\u001b[0m \u001b[38;5;28;01mif\u001b[39;00m \u001b[38;5;28mself\u001b[39m\u001b[38;5;241m.\u001b[39mcolumns\u001b[38;5;241m.\u001b[39mnlevels \u001b[38;5;241m>\u001b[39m \u001b[38;5;241m1\u001b[39m:\n\u001b[1;32m   3760\u001b[0m     \u001b[38;5;28;01mreturn\u001b[39;00m \u001b[38;5;28mself\u001b[39m\u001b[38;5;241m.\u001b[39m_getitem_multilevel(key)\n\u001b[0;32m-> 3761\u001b[0m indexer \u001b[38;5;241m=\u001b[39m \u001b[38;5;28;43mself\u001b[39;49m\u001b[38;5;241;43m.\u001b[39;49m\u001b[43mcolumns\u001b[49m\u001b[38;5;241;43m.\u001b[39;49m\u001b[43mget_loc\u001b[49m\u001b[43m(\u001b[49m\u001b[43mkey\u001b[49m\u001b[43m)\u001b[49m\n\u001b[1;32m   3762\u001b[0m \u001b[38;5;28;01mif\u001b[39;00m is_integer(indexer):\n\u001b[1;32m   3763\u001b[0m     indexer \u001b[38;5;241m=\u001b[39m [indexer]\n",
      "File \u001b[0;32m/Applications/anaconda3/envs/phase1/lib/python3.9/site-packages/pandas/core/indexes/base.py:3655\u001b[0m, in \u001b[0;36mIndex.get_loc\u001b[0;34m(self, key)\u001b[0m\n\u001b[1;32m   3653\u001b[0m     \u001b[38;5;28;01mreturn\u001b[39;00m \u001b[38;5;28mself\u001b[39m\u001b[38;5;241m.\u001b[39m_engine\u001b[38;5;241m.\u001b[39mget_loc(casted_key)\n\u001b[1;32m   3654\u001b[0m \u001b[38;5;28;01mexcept\u001b[39;00m \u001b[38;5;167;01mKeyError\u001b[39;00m \u001b[38;5;28;01mas\u001b[39;00m err:\n\u001b[0;32m-> 3655\u001b[0m     \u001b[38;5;28;01mraise\u001b[39;00m \u001b[38;5;167;01mKeyError\u001b[39;00m(key) \u001b[38;5;28;01mfrom\u001b[39;00m \u001b[38;5;21;01merr\u001b[39;00m\n\u001b[1;32m   3656\u001b[0m \u001b[38;5;28;01mexcept\u001b[39;00m \u001b[38;5;167;01mTypeError\u001b[39;00m:\n\u001b[1;32m   3657\u001b[0m     \u001b[38;5;66;03m# If we have a listlike key, _check_indexing_error will raise\u001b[39;00m\n\u001b[1;32m   3658\u001b[0m     \u001b[38;5;66;03m#  InvalidIndexError. Otherwise we fall through and re-raise\u001b[39;00m\n\u001b[1;32m   3659\u001b[0m     \u001b[38;5;66;03m#  the TypeError.\u001b[39;00m\n\u001b[1;32m   3660\u001b[0m     \u001b[38;5;28mself\u001b[39m\u001b[38;5;241m.\u001b[39m_check_indexing_error(key)\n",
      "\u001b[0;31mKeyError\u001b[0m: 'date time'"
     ]
    },
    {
     "data": {
      "text/plain": [
       "<Figure size 1200x600 with 0 Axes>"
      ]
     },
     "metadata": {},
     "output_type": "display_data"
    }
   ],
   "source": [
    "df['datetime'] = pd.to_datetime(df['datetime'], format='%m/%d/%y %H:%M')\n",
    "# Plotting the distribution of intrusion events over time\n",
    "plt.figure(figsize=(12, 6))\n",
    "df[\"datetime\"].dt.to_period('M').value_counts().sort_index().plot(kind='bar')\n",
    "plt.title('Distribution of Intrusion Events Over Time')\n",
    "plt.xlabel('Month')\n",
    "plt.ylabel('Number of Events')\n",
    "plt.xticks(rotation=45)\n",
    "plt.show()\n"
   ]
  },
  {
   "cell_type": "markdown",
   "metadata": {},
   "source": [
    "# Bivariate Analysis"
   ]
  },
  {
   "cell_type": "code",
   "execution_count": null,
   "metadata": {},
   "outputs": [],
   "source": []
  }
 ],
 "metadata": {
  "kernelspec": {
   "display_name": "phase1",
   "language": "python",
   "name": "python3"
  },
  "language_info": {
   "codemirror_mode": {
    "name": "ipython",
    "version": 3
   },
   "file_extension": ".py",
   "mimetype": "text/x-python",
   "name": "python",
   "nbconvert_exporter": "python",
   "pygments_lexer": "ipython3",
   "version": "3.9.18"
  }
 },
 "nbformat": 4,
 "nbformat_minor": 2
}
